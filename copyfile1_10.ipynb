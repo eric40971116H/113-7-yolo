{
  "nbformat": 4,
  "nbformat_minor": 0,
  "metadata": {
    "colab": {
      "provenance": [],
      "authorship_tag": "ABX9TyPpXQKAR0vQgGCYmgm34JQh",
      "include_colab_link": true
    },
    "kernelspec": {
      "name": "python3",
      "display_name": "Python 3"
    },
    "language_info": {
      "name": "python"
    }
  },
  "cells": [
    {
      "cell_type": "markdown",
      "metadata": {
        "id": "view-in-github",
        "colab_type": "text"
      },
      "source": [
        "<a href=\"https://colab.research.google.com/github/eric40971116H/113-7-yolo/blob/main/copyfile1_10.ipynb\" target=\"_parent\"><img src=\"https://colab.research.google.com/assets/colab-badge.svg\" alt=\"Open In Colab\"/></a>"
      ]
    },
    {
      "cell_type": "code",
      "source": [
        "from google.colab import drive\n",
        "import os\n",
        "import shutil\n",
        "\n",
        "drive.mount('/content/drive')"
      ],
      "metadata": {
        "colab": {
          "base_uri": "https://localhost:8080/"
        },
        "id": "OYGIQSlUdlNn",
        "outputId": "16ff0703-3057-4021-9d1e-d847cbe433ed"
      },
      "execution_count": 1,
      "outputs": [
        {
          "output_type": "stream",
          "name": "stdout",
          "text": [
            "Mounted at /content/drive\n"
          ]
        }
      ]
    },
    {
      "cell_type": "code",
      "source": [
        "%cd drive"
      ],
      "metadata": {
        "colab": {
          "base_uri": "https://localhost:8080/"
        },
        "id": "DcpY6Q7ZgVcq",
        "outputId": "08d0c6ee-5b30-41fc-9b91-e2da0b7fca41"
      },
      "execution_count": null,
      "outputs": [
        {
          "output_type": "stream",
          "name": "stdout",
          "text": [
            "/content/drive\n"
          ]
        }
      ]
    },
    {
      "cell_type": "code",
      "source": [
        "%cd MyDrive"
      ],
      "metadata": {
        "colab": {
          "base_uri": "https://localhost:8080/"
        },
        "id": "jzevnl9tga3Z",
        "outputId": "153de11c-d5a9-4ab2-ecd3-d7717aabbb5a"
      },
      "execution_count": null,
      "outputs": [
        {
          "output_type": "stream",
          "name": "stdout",
          "text": [
            "/content/drive/MyDrive\n"
          ]
        }
      ]
    },
    {
      "cell_type": "code",
      "source": [
        "%mkdir destination_folder1"
      ],
      "metadata": {
        "id": "w3j26pZfgfe3"
      },
      "execution_count": null,
      "outputs": []
    },
    {
      "cell_type": "code",
      "source": [
        "%mkdir destination_folder2"
      ],
      "metadata": {
        "id": "MV1EM-KchKev"
      },
      "execution_count": null,
      "outputs": []
    },
    {
      "cell_type": "markdown",
      "source": [
        "# 圖像複製"
      ],
      "metadata": {
        "id": "ODXXWWtjmFy4"
      }
    },
    {
      "cell_type": "code",
      "source": [
        "\n",
        "\n",
        "# 定义文件夹路径\n",
        "source_folder = '/content/drive/MyDrive/ColabNotebooks/images'\n",
        "destination_folder1 = '/content/drive/MyDrive/ColabNotebooks/data_rsna/test/images'\n",
        "destination_folder2 = '/content/drive/MyDrive/ColabNotebooks/data_rsna/train/images'\n",
        "\n",
        "# 创建目标文件夹（如果不存在）\n",
        "# os.makedirs(destination_folder1, exist_ok=True)\n",
        "# os.makedirs(destination_folder2, exist_ok=True)\n",
        "\n",
        "# 获取所有文件\n",
        "all_files = sorted(os.listdir(source_folder))\n",
        "\n",
        "# 复制前10个文件到第一个文件夹\n",
        "for file_name in all_files[:100]:\n",
        "    source_file = os.path.join(source_folder, file_name)\n",
        "    destination_file = os.path.join(destination_folder1, file_name)\n",
        "    shutil.copy(source_file, destination_file)\n",
        "\n",
        "# 复制第20到30个文件到第二个文件夹\n",
        "for file_name in all_files[100:500]:  # 注意：索引从0开始，所以第20个文件索引为19\n",
        "    source_file = os.path.join(source_folder, file_name)\n",
        "    destination_file = os.path.join(destination_folder2, file_name)\n",
        "    shutil.copy(source_file, destination_file)\n",
        "\n",
        "print(\"文件复制完成。\")"
      ],
      "metadata": {
        "colab": {
          "base_uri": "https://localhost:8080/"
        },
        "id": "ErkJd0oPdgnp",
        "outputId": "53b27e47-bb6a-46d4-abf3-b5ab036e7eff"
      },
      "execution_count": null,
      "outputs": [
        {
          "output_type": "stream",
          "name": "stdout",
          "text": [
            "文件复制完成。\n"
          ]
        }
      ]
    },
    {
      "cell_type": "markdown",
      "source": [
        "# 標籤複製"
      ],
      "metadata": {
        "id": "0erHB00SmBxn"
      }
    },
    {
      "cell_type": "code",
      "source": [
        "# 定义文件夹路径\n",
        "source_folder = '/content/drive/MyDrive/ColabNotebooks/labels'\n",
        "destination_folder1 = '/content/drive/MyDrive/ColabNotebooks/data_rsna/test/labels'\n",
        "destination_folder2 = '/content/drive/MyDrive/ColabNotebooks/data_rsna/train/labels'\n",
        "\n",
        "# 创建目标文件夹（如果不存在）\n",
        "# os.makedirs(destination_folder1, exist_ok=True)\n",
        "# os.makedirs(destination_folder2, exist_ok=True)\n",
        "\n",
        "# 获取所有文件\n",
        "all_files = sorted(os.listdir(source_folder))\n",
        "\n",
        "# 复制前10个文件到第一个文件夹\n",
        "for file_name in all_files[:100]:\n",
        "    source_file = os.path.join(source_folder, file_name)\n",
        "    destination_file = os.path.join(destination_folder1, file_name)\n",
        "    shutil.copy(source_file, destination_file)\n",
        "\n",
        "# 复制第20到30个文件到第二个文件夹\n",
        "for file_name in all_files[100:500]:  # 注意：索引从0开始，所以第20个文件索引为19\n",
        "    source_file = os.path.join(source_folder, file_name)\n",
        "    destination_file = os.path.join(destination_folder2, file_name)\n",
        "    shutil.copy(source_file, destination_file)\n",
        "\n",
        "print(\"文件复制完成。\")"
      ],
      "metadata": {
        "colab": {
          "base_uri": "https://localhost:8080/"
        },
        "id": "DdresKPmlSrL",
        "outputId": "63c4d148-2690-4256-9119-44ded709c26c"
      },
      "execution_count": null,
      "outputs": [
        {
          "output_type": "stream",
          "name": "stdout",
          "text": [
            "文件复制完成。\n"
          ]
        }
      ]
    },
    {
      "cell_type": "code",
      "source": [
        "# 定义文件夹路径\n",
        "source_folder = '/content/drive/MyDrive/ColabNotebooks/images'\n",
        "destination_folder1 = '/content/drive/MyDrive/ColabNotebooks/data_rsna/valid/images'\n",
        "\n",
        "\n",
        "# 创建目标文件夹（如果不存在）\n",
        "# os.makedirs(destination_folder1, exist_ok=True)\n",
        "# os.makedirs(destination_folder2, exist_ok=True)\n",
        "\n",
        "# 获取所有文件\n",
        "all_files = sorted(os.listdir(source_folder))\n",
        "\n",
        "# 复制前10个文件到第一个文件夹 訓練從100-500 測試0-100\n",
        "for file_name in all_files[500:600]:\n",
        "    source_file = os.path.join(source_folder, file_name)\n",
        "    destination_file = os.path.join(destination_folder1, file_name)\n",
        "    shutil.copy(source_file, destination_file)\n",
        "\n",
        "\n",
        "print(\"文件复制完成。\")"
      ],
      "metadata": {
        "colab": {
          "base_uri": "https://localhost:8080/"
        },
        "id": "rQ3Ryn9_lfrn",
        "outputId": "15cc37bc-62fd-4567-e2f5-0a0559deb910"
      },
      "execution_count": null,
      "outputs": [
        {
          "output_type": "stream",
          "name": "stdout",
          "text": [
            "文件复制完成。\n"
          ]
        }
      ]
    },
    {
      "cell_type": "code",
      "source": [
        "# 定义文件夹路径\n",
        "source_folder = '/content/drive/MyDrive/ColabNotebooks/labels'\n",
        "destination_folder1 = '/content/drive/MyDrive/ColabNotebooks/data_rsna/valid/labels'\n",
        "\n",
        "\n",
        "# 创建目标文件夹（如果不存在）\n",
        "# os.makedirs(destination_folder1, exist_ok=True)\n",
        "# os.makedirs(destination_folder2, exist_ok=True)\n",
        "\n",
        "# 获取所有文件\n",
        "all_files = sorted(os.listdir(source_folder))\n",
        "\n",
        "# 复制前10个文件到第一个文件夹 訓練從100-500 測試0-100\n",
        "for file_name in all_files[500:600]:\n",
        "    source_file = os.path.join(source_folder, file_name)\n",
        "    destination_file = os.path.join(destination_folder1, file_name)\n",
        "    shutil.copy(source_file, destination_file)\n",
        "\n",
        "\n",
        "print(\"文件复制完成。\")"
      ],
      "metadata": {
        "colab": {
          "base_uri": "https://localhost:8080/"
        },
        "id": "wNwZmtmImQT9",
        "outputId": "616b80d7-501b-4971-fc01-0759c7720dbd"
      },
      "execution_count": null,
      "outputs": [
        {
          "output_type": "stream",
          "name": "stdout",
          "text": [
            "文件复制完成。\n"
          ]
        }
      ]
    },
    {
      "cell_type": "markdown",
      "source": [
        "# 0726 train 100-500 test 0-100 valid 500-600\n"
      ],
      "metadata": {
        "id": "BINP0GsNmRmw"
      }
    },
    {
      "cell_type": "code",
      "source": [],
      "metadata": {
        "id": "cApDxQLkmdXI"
      },
      "execution_count": null,
      "outputs": []
    }
  ]
}